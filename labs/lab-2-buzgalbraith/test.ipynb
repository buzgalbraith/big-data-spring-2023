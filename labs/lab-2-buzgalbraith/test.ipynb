{
 "cells": [
  {
   "cell_type": "code",
   "execution_count": 3,
   "metadata": {},
   "outputs": [
    {
     "name": "stdout",
     "output_type": "stream",
     "text": [
      "('1000', '15-03-2015') sausage\n",
      "('1000', '15-03-2015') semi-finished bread\n",
      "('1000', '15-03-2015') whole milk\n",
      "('1000', '15-03-2015') yogurt\n",
      "('1000', '24-06-2014') pastry\n"
     ]
    }
   ],
   "source": [
    "import re \n",
    "import functools\n",
    "test=[\"1000,15-03-2015,sausage\"\n",
    ",\"1000,15-03-2015,semi-finished bread\"\n",
    ",\"1000,15-03-2015,whole milk\"\n",
    ",\"1000,15-03-2015,yogurt\"\n",
    ",\"1000,24-06-2014,pastry\"]\n",
    "for line in test:\n",
    "    user,data,item=line.split(',')\n",
    "    key=(user,data)\n",
    "    value=item \n",
    "    print(key,value)\n",
    "intermediates=[ [('1000', '15-03-2015'), 'sausage'],\n",
    "[('1000', '15-03-2015'), 'semi-finished bread'],\n",
    "[('1000', '15-03-2015'), 'whole milk'],\n",
    "[('1000', '15-03-2015'), 'sausage'],\n",
    "[('1000', '24-06-2014'), 'pastry']]\n",
    "intermediates\n"
   ]
  },
  {
   "cell_type": "code",
   "execution_count": 2,
   "metadata": {},
   "outputs": [
    {
     "data": {
      "text/plain": [
       "0.1"
      ]
     },
     "execution_count": 2,
     "metadata": {},
     "output_type": "execute_result"
    }
   ],
   "source": [
    "a=\"u1, v1\"\n",
    "a.split(',')\n",
    "a=100*100\n",
    "out=100*1000\n",
    "cap_rate=a/out\n",
    "(a/out)**()"
   ]
  }
 ],
 "metadata": {
  "kernelspec": {
   "display_name": "big_data",
   "language": "python",
   "name": "python3"
  },
  "language_info": {
   "codemirror_mode": {
    "name": "ipython",
    "version": 3
   },
   "file_extension": ".py",
   "mimetype": "text/x-python",
   "name": "python",
   "nbconvert_exporter": "python",
   "pygments_lexer": "ipython3",
   "version": "3.8.16"
  },
  "orig_nbformat": 4,
  "vscode": {
   "interpreter": {
    "hash": "8cf6384b8ab43454904c006f9710fe4986f0f1275905f24d208f3fc96f41de23"
   }
  }
 },
 "nbformat": 4,
 "nbformat_minor": 2
}
